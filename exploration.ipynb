{
  "nbformat": 4,
  "nbformat_minor": 5,
  "metadata": {
    "kernelspec": {
      "display_name": "Python 3",
      "language": "python",
      "name": "python3"
    },
    "language_info": {
      "codemirror_mode": {
        "name": "ipython",
        "version": 3
      },
      "file_extension": ".py",
      "mimetype": "text/x-python",
      "name": "python",
      "nbconvert_exporter": "python",
      "pygments_lexer": "ipython3",
      "version": "3.7.0"
    },
    "colab": {
      "name": "exploration.ipynb",
      "provenance": []
    }
  },
  "cells": [
    {
      "cell_type": "markdown",
      "metadata": {
        "id": "central-helicopter"
      },
      "source": [
        "# Here is presented the first exploration on the [Stanford dogs dataset](http://vision.stanford.edu/aditya86/ImageNetDogs/)\n",
        "\n",
        "\n",
        "\n",
        "[![Open In Colab](https://colab.research.google.com/assets/colab-badge.svg)](https://colab.research.google.com/github/Jeremynadal33/classify_stanford_dogs/blob/master/pexploration.ipynb)\n",
        "\n",
        "It also downloads the dataset if needed\n"
      ],
      "id": "central-helicopter"
    },
    {
      "cell_type": "code",
      "metadata": {
        "id": "asian-connectivity"
      },
      "source": [
        "import cv2\n",
        "import os \n",
        "import cv2\n",
        "import matplotlib.pyplot as plt \n",
        "import numpy as np\n",
        "import tarfile\n",
        "import requests"
      ],
      "id": "asian-connectivity",
      "execution_count": 81,
      "outputs": []
    },
    {
      "cell_type": "code",
      "metadata": {
        "colab": {
          "base_uri": "https://localhost:8080/"
        },
        "id": "immediate-fishing",
        "outputId": "60db73c5-e6f8-405f-afa6-d502fc7fa7a9"
      },
      "source": [
        "if 'google.colab' in str(get_ipython()):\n",
        "  print('Running on CoLab')\n",
        "  from google.colab import drive\n",
        "  drive.mount('/content/gdrive',force_remount=True)\n",
        "  \n",
        "  root_dir = '/content/gdrive/My Drive/Formation-OC/P6-Images/'\n",
        "  input_dir = root_dir + 'inputs/'\n",
        "  png_dir = root_dir + 'pngs/'\n",
        "\n",
        "  #my script\n",
        "  !ls gdrive/MyDrive/Formation-OC/P6-Images/\n",
        "else:\n",
        "  print('Not running on CoLab')\n",
        "  #my script\n",
        "  root_dir = '/Users/jeremynadal/Documents/Formation OC IML/P6/'\n",
        "  input_dir = root_dir + 'inputs/'\n",
        "  png_dir = root_dir + 'pngs/'\n",
        "  model_dir = root_dir +'models/'"
      ],
      "id": "immediate-fishing",
      "execution_count": 2,
      "outputs": [
        {
          "output_type": "stream",
          "text": [
            "Running on CoLab\n",
            "Mounted at /content/gdrive\n",
            "inputs\tmodels\tP6-presentation.pptx  pngs\n",
            "inputs\tmodels\tP6-presentation.pptx  pngs\n"
          ],
          "name": "stdout"
        }
      ]
    },
    {
      "cell_type": "code",
      "metadata": {
        "id": "FhFu5L6lB1hy"
      },
      "source": [
        "def download_from_url(url, target_path = 'inputs/', keep_download = True, overwrite_download = False):\n",
        "  '''Download file or data from url. \n",
        "  url (string): path to dataset\n",
        "  target_path (string, optional): directory path to write download data. Default is inputs/\n",
        "  keep_download (boolean, optional): wether to keep the the download file after extraction. Default is True\n",
        "  overwrite_download (boolean, optional): wether to overwrite the file if it exists. Default is False.'''\n",
        "\n",
        "  assert url != '' and url != None, 'Please, enter correct url'\n",
        "  \n",
        "  filename = os.path.basename(url)\n",
        "  file_location = target_path + filename\n",
        "\n",
        "  os.makedirs(target_path, exist_ok=True)\n",
        " \n",
        "  if os.path.exists(file_location) and not overwrite_download:\n",
        "    print(\"File already exists at {}. Use: 'overwrite_download=True' to overwrite download\".format(file_location))\n",
        "    tarf = tarfile.open(file_location, 'r')\n",
        "    tarf.extractall(target_path)\n",
        "    tarf.close()\n",
        "\t\t\n",
        "    return\n",
        "  print('Downloading file from {} to {}.'.format(url,file_location))\n",
        "\t# Download\n",
        "  with open(file_location, 'wb') as f:\n",
        "    with requests.get(url, allow_redirects=True, stream=True) as resp:\n",
        "      for chunk in resp.iter_content(chunk_size = 512):  #chunk_size in bytes\n",
        "        if chunk:\n",
        "          f.write(chunk)\n",
        "\n",
        "  print(\"Finished downloading.\")\n",
        "  print(\"Extracting the file now ...\")\n",
        "  tarf = tarfile.open(file_location, 'r')\n",
        "  tarf.extractall(target_path)\n",
        "  tarf.close()\n",
        "  \n",
        "  if not keep_download:\n",
        "    os.remove(file_location)\n",
        "\n",
        "\n",
        "  return '1'\n",
        "\n",
        "url = 'http://vision.stanford.edu/aditya86/ImageNetDogs/images.tar'\n",
        "#url = 'http://www.sbeams.org/sample_data/Microarray/External_test_data.tar.gz'\n",
        "\n",
        "#download_from_url(url, target_path=input_dir)\n"
      ],
      "id": "FhFu5L6lB1hy",
      "execution_count": 52,
      "outputs": []
    },
    {
      "cell_type": "code",
      "metadata": {
        "id": "Cj8UvbhoIWyO"
      },
      "source": [
        "species = os.listdir(input_dir+'sep_images/train')"
      ],
      "id": "Cj8UvbhoIWyO",
      "execution_count": 59,
      "outputs": []
    },
    {
      "cell_type": "markdown",
      "metadata": {
        "id": "bibliographic-question"
      },
      "source": [
        "## Lets see how many images and classes we have"
      ],
      "id": "bibliographic-question"
    },
    {
      "cell_type": "code",
      "metadata": {
        "id": "spectacular-phoenix",
        "outputId": "27a405cc-6c46-4032-b07c-4b51aecba4b7"
      },
      "source": [
        "species = os.listdir(input_dir+'Images/')\n",
        "species = [specie for specie in species if specie !='.DS_Store']\n",
        "print('There are {} different species'.format(len(species)))"
      ],
      "id": "spectacular-phoenix",
      "execution_count": null,
      "outputs": [
        {
          "output_type": "stream",
          "text": [
            "There are 120 different species\n"
          ],
          "name": "stdout"
        }
      ]
    },
    {
      "cell_type": "code",
      "metadata": {
        "id": "capable-deviation",
        "outputId": "e038ab00-81e3-4398-8867-cc37d00c0994"
      },
      "source": [
        "nb_img = [len(os.listdir(input_dir+'Images/'+specie)) for specie in species ]\n",
        "plt.figure(figsize=(4,4))\n",
        "plt.hist(nb_img,bins=20)\n",
        "plt.xlabel('Number of images in class')\n",
        "plt.ylabel('Number of classes')\n",
        "\n",
        "plt.savefig(png_dir+'nb_class.png')\n",
        "plt.show()\n",
        "\n",
        "print('In total, there is {} images'.format(np.sum(nb_img)))"
      ],
      "id": "capable-deviation",
      "execution_count": null,
      "outputs": [
        {
          "output_type": "display_data",
          "data": {
            "image/png": "[encoded data removed]",
            "text/plain": [
              "<Figure size 288x288 with 1 Axes>"
            ]
          },
          "metadata": {
            "tags": [],
            "needs_background": "light"
          }
        }
      ]
    },
    {
      "cell_type": "markdown",
      "metadata": {
        "id": "QHePNDDxJYk2"
      },
      "source": [
        "## Lets see what size the images are"
      ],
      "id": "QHePNDDxJYk2"
    },
    {
      "cell_type": "code",
      "metadata": {
        "id": "ZJNUE5LpJEpd"
      },
      "source": [
        "# List all imgs\n",
        "imgs = []\n",
        "for specie in species :\n",
        "  for file in os.listdir(input_dir+'sep_images/train/'+specie):\n",
        "    imgs.append(input_dir+'sep_images/train/'+specie+'/'+file)\n",
        "  \n",
        "  for file in os.listdir(input_dir+'sep_images/validation/'+specie):\n",
        "    imgs.append(input_dir+'sep_images/validation/'+specie+'/'+file)"
      ],
      "id": "ZJNUE5LpJEpd",
      "execution_count": 78,
      "outputs": []
    },
    {
      "cell_type": "code",
      "metadata": {
        "id": "T2irNH6uNWo-"
      },
      "source": [
        "# List all imgs\n",
        "imgs = []\n",
        "for specie in species :\n",
        "  for file in os.listdir(input_dir+'Images/'+specie):\n",
        "    imgs.append(input_dir+'Images/'+specie+'/'+file)\n",
        "  "
      ],
      "id": "T2irNH6uNWo-",
      "execution_count": null,
      "outputs": []
    },
    {
      "cell_type": "code",
      "metadata": {
        "id": "XMNqhX3IMx7x"
      },
      "source": [
        "sizes = [cv2.imread(img,1).shape[:-1] for img in imgs]"
      ],
      "id": "XMNqhX3IMx7x",
      "execution_count": null,
      "outputs": []
    },
    {
      "cell_type": "code",
      "metadata": {
        "id": "bzGFPWTHN6tL"
      },
      "source": [
        "print(len(sizes))"
      ],
      "id": "bzGFPWTHN6tL",
      "execution_count": null,
      "outputs": []
    },
    {
      "cell_type": "code",
      "metadata": {
        "id": "eZ6mlpWrOD_M"
      },
      "source": [
        "test = [(2,2),(4,4)]\n",
        "print(np.mean(test))"
      ],
      "id": "eZ6mlpWrOD_M",
      "execution_count": null,
      "outputs": []
    },
    {
      "cell_type": "code",
      "metadata": {
        "id": "ZOCyOYxpOsUl"
      },
      "source": [
        "import imagesize\n",
        "\n",
        "width, height = imagesize.get(imgs[0])"
      ],
      "id": "ZOCyOYxpOsUl",
      "execution_count": null,
      "outputs": []
    },
    {
      "cell_type": "markdown",
      "metadata": {
        "id": "h50atHQ8JqHO"
      },
      "source": [
        "## Lets separate the images between train and test directories"
      ],
      "id": "h50atHQ8JqHO"
    },
    {
      "cell_type": "code",
      "metadata": {
        "id": "YaaHCLWjJEiJ"
      },
      "source": [
        "def create_train_val_rep(img_dir, output_dir, validation_split=0.3, random_seed = 42 ):\n",
        "    '''Create repertories and put train and validation into them. Careful, the images must already be in separate folders into an Image rep.\n",
        "    input_dir (str): the path where to create the baseline directory\n",
        "    species (list(str)): the list of directories to take and split into train and validation\n",
        "    validation split (float, optional): proportion of img to take as validation. Default is 0.3.'''\n",
        "    \n",
        "    assert os.path.exists(img_dir), 'img_dir doesnot exists'\n",
        "\n",
        "    if img_dir[-1] != '/' : img_dir += '/'\n",
        "    if output_dir[-1] != '/' : output_dir += '/'\n",
        "    \n",
        "    species = os.listdir(img_dir)\n",
        "\n",
        "    for specie in species :\n",
        "      assert os.path.isdir(img_dir+specie), 'Images must be in separate directories'\n",
        "    \n",
        "    assert not os.path.exists(output_dir), 'baseline_inputs already exists, consider removing it first'\n",
        "    \n",
        "    np.random.seed(random_seed)\n",
        "    os.mkdir(output_dir)\n",
        "    os.mkdir(output_dir+'train')\n",
        "    os.mkdir(output_dir+'validation')\n",
        "    i = 1\n",
        "    for specie in species:\n",
        "        os.mkdir(output_dir+'train/'+specie)\n",
        "        os.mkdir(output_dir+'validation/'+specie)\n",
        "        \n",
        "        img_names = os.listdir(img_dir+specie)\n",
        "        img_train, img_validation = train_test_split(img_names, test_size=validation_split, random_state=random_seed)\n",
        "        print('For the {}th class: {}, there is {} training images and {} validation images'.format(i, specie.split('-')[1],len(img_train),len(img_validation)))\n",
        "        i += 1\n",
        "        for img in img_train :\n",
        "            shutil.copy(img_dir+specie+'/'+img, output_dir+'train/'+specie )\n",
        "        for img in img_validation :\n",
        "            shutil.copy(img_dir+specie+'/'+img, output_dir+'validation/'+specie )\n",
        "\n",
        "create_train_val_rep(input_dir+'Images/',input_dir+'sep_images/')"
      ],
      "id": "YaaHCLWjJEiJ",
      "execution_count": null,
      "outputs": []
    },
    {
      "cell_type": "code",
      "metadata": {
        "id": "tA1J0abDPbSX"
      },
      "source": [
        ""
      ],
      "id": "tA1J0abDPbSX",
      "execution_count": null,
      "outputs": []
    },
    {
      "cell_type": "code",
      "metadata": {
        "id": "UkbWkVPrPa9A"
      },
      "source": [
        ""
      ],
      "id": "UkbWkVPrPa9A",
      "execution_count": null,
      "outputs": []
    }
  ]
}