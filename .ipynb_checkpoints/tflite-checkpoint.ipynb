{
 "cells": [
  {
   "cell_type": "markdown",
   "id": "boxed-ability",
   "metadata": {},
   "source": [
    "# This notebook presents the transformation of a TF model into a TFLite model to use it in an Android app\n",
    "\n",
    "\n",
    "[![Open In Colab](https://colab.research.google.com/assets/colab-badge.svg)](https://colab.research.google.com/github/Jeremynadal33/classify_stanford_dogs/blob/master/tflite.ipynb)\n",
    "\n",
    "This notebook presents :\n",
    "* The conversion into tflite model\n",
    "* The comparison of sizes\n",
    "* The comparison in term of accuracy\n",
    "* The addition of metadata important for the use in Android Studio"
   ]
  },
  {
   "cell_type": "code",
   "execution_count": null,
   "id": "athletic-socket",
   "metadata": {},
   "outputs": [],
   "source": []
  }
 ],
 "metadata": {
  "kernelspec": {
   "display_name": "Python 3",
   "language": "python",
   "name": "python3"
  }
 },
 "nbformat": 4,
 "nbformat_minor": 5
}
