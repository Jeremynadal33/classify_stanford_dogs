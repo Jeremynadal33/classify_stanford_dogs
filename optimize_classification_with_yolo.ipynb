{
 "cells": [
  {
   "cell_type": "markdown",
   "id": "polish-advance",
   "metadata": {},
   "source": [
    "# This notebook tries to improve an existing classification model using yolo to crop the image before predicting the class\n",
    "\n",
    "\n",
    "[![Open In Colab](https://colab.research.google.com/assets/colab-badge.svg)](https://colab.research.google.com/github/Jeremynadal33/classify_stanford_dogs/blob/master/optimize_classification_with_yolo.ipynb)\n",
    "\n",
    "This notebook presents :\n",
    "* Processing of yolo outputs\n",
    "* Downloading and study of the average size of a dog in the Stanford dataset\n",
    "* Make a function that manage a photo to optimize the predicton"
   ]
  },
  {
   "cell_type": "code",
   "execution_count": null,
   "id": "greek-payment",
   "metadata": {},
   "outputs": [],
   "source": []
  }
 ],
 "metadata": {
  "kernelspec": {
   "display_name": "Python 3",
   "language": "python",
   "name": "python3"
  }
 },
 "nbformat": 4,
 "nbformat_minor": 5
}
