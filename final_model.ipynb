{
 "cells": [
  {
   "cell_type": "markdown",
   "id": "progressive-crawford",
   "metadata": {},
   "source": [
    "# This notebook presents a baseline cnn model trained with and without data augmentation to see the differences\n",
    "\n",
    "\n",
    "\n",
    "[![Open In Colab](https://colab.research.google.com/assets/colab-badge.svg)](https://colab.research.google.com/github/Jeremynadal33/classify_stanford_dogs/blob/master/final_model.ipynb)\n",
    "\n",
    "The aim of this notebook is : \n",
    "* Present best model \n",
    "* Tune its hyper-para\n",
    "* Save the model \n",
    "* Write a function that predicts the breed of a dog given its photo \n",
    "\n",
    "\n"
   ]
  },
  {
   "cell_type": "code",
   "execution_count": null,
   "id": "consecutive-basis",
   "metadata": {},
   "outputs": [],
   "source": []
  }
 ],
 "metadata": {
  "kernelspec": {
   "display_name": "Python 3",
   "language": "python",
   "name": "python3"
  }
 },
 "nbformat": 4,
 "nbformat_minor": 5
}
