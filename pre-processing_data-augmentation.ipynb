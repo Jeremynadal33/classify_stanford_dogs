{
 "cells": [
  {
   "cell_type": "markdown",
   "id": "built-determination",
   "metadata": {},
   "source": [
    "# This notebook presents a baseline cnn model trained with and without data augmentation to see the differences\n",
    "\n",
    "\n",
    "\n",
    "[![Open In Colab](https://colab.research.google.com/assets/colab-badge.svg)](https://colab.research.google.com/github/Jeremynadal33/classify_stanford_dogs/blob/master/pre-processing_data-augmentation.ipynb)\n",
    "\n"
   ]
  },
  {
   "cell_type": "code",
   "execution_count": null,
   "id": "canadian-weather",
   "metadata": {},
   "outputs": [],
   "source": []
  }
 ],
 "metadata": {
  "kernelspec": {
   "display_name": "Python 3",
   "language": "python",
   "name": "python3"
  }
 },
 "nbformat": 4,
 "nbformat_minor": 5
}
